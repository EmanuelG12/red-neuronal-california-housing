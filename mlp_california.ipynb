{
 "cells": [
  {
   "cell_type": "markdown",
   "id": "abc65773",
   "metadata": {},
   "source": [
    "## 1. Importación de librerías"
   ]
  },
  {
   "cell_type": "code",
   "execution_count": 1,
   "id": "e6bd24b3",
   "metadata": {},
   "outputs": [],
   "source": [
    "import pandas as pd \n",
    "import numpy as np \n",
    "from sklearn.datasets import fetch_california_housing\n",
    "from keras import Sequential\n",
    "from keras.layers import Input, Dropout, ReLU, Dense, BatchNormalization\n",
    "from keras.callbacks import EarlyStopping, ModelCheckpoint\n",
    "from sklearn.preprocessing import StandardScaler\n",
    "from sklearn.model_selection import train_test_split\n",
    "import matplotlib.pyplot as plt"
   ]
  },
  {
   "cell_type": "markdown",
   "id": "3d98f4b6",
   "metadata": {},
   "source": [
    "## 2. Carga de datos"
   ]
  },
  {
   "cell_type": "code",
   "execution_count": 2,
   "id": "1d1e336f",
   "metadata": {},
   "outputs": [],
   "source": [
    "# importamos datos\n",
    "data = fetch_california_housing(as_frame=True)\n",
    "df = data.frame"
   ]
  },
  {
   "cell_type": "code",
   "execution_count": 3,
   "id": "a314556a",
   "metadata": {},
   "outputs": [
    {
     "data": {
      "text/plain": [
       "(20640, 9)"
      ]
     },
     "execution_count": 3,
     "metadata": {},
     "output_type": "execute_result"
    }
   ],
   "source": [
    "df.shape"
   ]
  },
  {
   "cell_type": "code",
   "execution_count": 4,
   "id": "d196b25f",
   "metadata": {},
   "outputs": [
    {
     "data": {
      "text/html": [
       "<div>\n",
       "<style scoped>\n",
       "    .dataframe tbody tr th:only-of-type {\n",
       "        vertical-align: middle;\n",
       "    }\n",
       "\n",
       "    .dataframe tbody tr th {\n",
       "        vertical-align: top;\n",
       "    }\n",
       "\n",
       "    .dataframe thead th {\n",
       "        text-align: right;\n",
       "    }\n",
       "</style>\n",
       "<table border=\"1\" class=\"dataframe\">\n",
       "  <thead>\n",
       "    <tr style=\"text-align: right;\">\n",
       "      <th></th>\n",
       "      <th>MedInc</th>\n",
       "      <th>HouseAge</th>\n",
       "      <th>AveRooms</th>\n",
       "      <th>AveBedrms</th>\n",
       "      <th>Population</th>\n",
       "      <th>AveOccup</th>\n",
       "      <th>Latitude</th>\n",
       "      <th>Longitude</th>\n",
       "      <th>MedHouseVal</th>\n",
       "    </tr>\n",
       "  </thead>\n",
       "  <tbody>\n",
       "    <tr>\n",
       "      <th>0</th>\n",
       "      <td>8.3252</td>\n",
       "      <td>41.0</td>\n",
       "      <td>6.984127</td>\n",
       "      <td>1.023810</td>\n",
       "      <td>322.0</td>\n",
       "      <td>2.555556</td>\n",
       "      <td>37.88</td>\n",
       "      <td>-122.23</td>\n",
       "      <td>4.526</td>\n",
       "    </tr>\n",
       "    <tr>\n",
       "      <th>1</th>\n",
       "      <td>8.3014</td>\n",
       "      <td>21.0</td>\n",
       "      <td>6.238137</td>\n",
       "      <td>0.971880</td>\n",
       "      <td>2401.0</td>\n",
       "      <td>2.109842</td>\n",
       "      <td>37.86</td>\n",
       "      <td>-122.22</td>\n",
       "      <td>3.585</td>\n",
       "    </tr>\n",
       "    <tr>\n",
       "      <th>2</th>\n",
       "      <td>7.2574</td>\n",
       "      <td>52.0</td>\n",
       "      <td>8.288136</td>\n",
       "      <td>1.073446</td>\n",
       "      <td>496.0</td>\n",
       "      <td>2.802260</td>\n",
       "      <td>37.85</td>\n",
       "      <td>-122.24</td>\n",
       "      <td>3.521</td>\n",
       "    </tr>\n",
       "    <tr>\n",
       "      <th>3</th>\n",
       "      <td>5.6431</td>\n",
       "      <td>52.0</td>\n",
       "      <td>5.817352</td>\n",
       "      <td>1.073059</td>\n",
       "      <td>558.0</td>\n",
       "      <td>2.547945</td>\n",
       "      <td>37.85</td>\n",
       "      <td>-122.25</td>\n",
       "      <td>3.413</td>\n",
       "    </tr>\n",
       "    <tr>\n",
       "      <th>4</th>\n",
       "      <td>3.8462</td>\n",
       "      <td>52.0</td>\n",
       "      <td>6.281853</td>\n",
       "      <td>1.081081</td>\n",
       "      <td>565.0</td>\n",
       "      <td>2.181467</td>\n",
       "      <td>37.85</td>\n",
       "      <td>-122.25</td>\n",
       "      <td>3.422</td>\n",
       "    </tr>\n",
       "  </tbody>\n",
       "</table>\n",
       "</div>"
      ],
      "text/plain": [
       "   MedInc  HouseAge  AveRooms  AveBedrms  Population  AveOccup  Latitude  \\\n",
       "0  8.3252      41.0  6.984127   1.023810       322.0  2.555556     37.88   \n",
       "1  8.3014      21.0  6.238137   0.971880      2401.0  2.109842     37.86   \n",
       "2  7.2574      52.0  8.288136   1.073446       496.0  2.802260     37.85   \n",
       "3  5.6431      52.0  5.817352   1.073059       558.0  2.547945     37.85   \n",
       "4  3.8462      52.0  6.281853   1.081081       565.0  2.181467     37.85   \n",
       "\n",
       "   Longitude  MedHouseVal  \n",
       "0    -122.23        4.526  \n",
       "1    -122.22        3.585  \n",
       "2    -122.24        3.521  \n",
       "3    -122.25        3.413  \n",
       "4    -122.25        3.422  "
      ]
     },
     "execution_count": 4,
     "metadata": {},
     "output_type": "execute_result"
    }
   ],
   "source": [
    "df.head()"
   ]
  },
  {
   "cell_type": "code",
   "execution_count": 5,
   "id": "3688e2eb",
   "metadata": {},
   "outputs": [],
   "source": [
    "# Transformamos nuestro df en array\n",
    "array_data = df.values \n",
    "\n",
    "# Separamos datos en X e y\n",
    "X = array_data[:, :-1]  # todas las columnas menos la última\n",
    "y = array_data[:, -1]   # la última columna es la target"
   ]
  },
  {
   "cell_type": "code",
   "execution_count": 6,
   "id": "a43bec50",
   "metadata": {},
   "outputs": [],
   "source": [
    "# Normalizamos los datos para mejorar el rendimiento de la red\n",
    "scaler = StandardScaler()\n",
    "X_scaled = scaler.fit_transform(X)"
   ]
  },
  {
   "cell_type": "code",
   "execution_count": 7,
   "id": "63899cd5",
   "metadata": {},
   "outputs": [],
   "source": [
    "# Spliteamos train y test\n",
    "X_train, X_test, y_train, y_test = train_test_split(X_scaled, y, test_size=0.2, random_state=42)"
   ]
  },
  {
   "cell_type": "markdown",
   "id": "4fdbe148",
   "metadata": {},
   "source": [
    "## 4. Arquitectura del modelo\n"
   ]
  },
  {
   "cell_type": "code",
   "execution_count": null,
   "id": "cbb86b9e",
   "metadata": {},
   "outputs": [],
   "source": [
    "# Arquitectura\n",
    "model = Sequential(layers=[\n",
    "    Input(shape = (X_train.shape[1],)),\n",
    "    Dense(64),\n",
    "    # BatchNormalization(),\n",
    "    ReLU(),\n",
    "    Dropout(0.3),\n",
    "\n",
    "    Dense(32),\n",
    "    # BatchNormalization(),\n",
    "    ReLU(),\n",
    "    Dropout(0.2),\n",
    "\n",
    "    Dense(1)    # Salida para la regresión\n",
    "])"
   ]
  },
  {
   "cell_type": "code",
   "execution_count": 9,
   "id": "a9e8eb4a",
   "metadata": {},
   "outputs": [],
   "source": [
    "# Compilamos el modelo\n",
    "model.compile(optimizer='adam', loss='mse', metrics=['mae'])"
   ]
  },
  {
   "cell_type": "markdown",
   "id": "4c56b129",
   "metadata": {},
   "source": [
    "## 5. Entrenamiento"
   ]
  },
  {
   "cell_type": "code",
   "execution_count": 10,
   "id": "cb2b056d",
   "metadata": {},
   "outputs": [],
   "source": [
    "# EarlyStopping\n",
    "early_stop = EarlyStopping(monitor='val_loss',\n",
    "                           patience=5,\n",
    "                           restore_best_weights=True)\n",
    "\n",
    "# ModelCheckpoint\n",
    "checkpoint = ModelCheckpoint(\n",
    "    filepath='mejor_modelo.keras',  # nombre del archivo a guardar\n",
    "    monitor='val_loss',             # observa la misma métrica\n",
    "    save_best_only=True,           # guarda solo el mejor modelo\n",
    "    verbose=1\n",
    ")"
   ]
  },
  {
   "cell_type": "code",
   "execution_count": 11,
   "id": "e726005d",
   "metadata": {},
   "outputs": [
    {
     "name": "stdout",
     "output_type": "stream",
     "text": [
      "Epoch 1/100\n",
      "\u001b[1m386/413\u001b[0m \u001b[32m━━━━━━━━━━━━━━━━━━\u001b[0m\u001b[37m━━\u001b[0m \u001b[1m0s\u001b[0m 2ms/step - loss: 2.5692 - mae: 1.1198\n",
      "Epoch 1: val_loss improved from inf to 0.57656, saving model to mejor_modelo.keras\n",
      "\u001b[1m413/413\u001b[0m \u001b[32m━━━━━━━━━━━━━━━━━━━━\u001b[0m\u001b[37m\u001b[0m \u001b[1m2s\u001b[0m 2ms/step - loss: 2.4986 - mae: 1.1006 - val_loss: 0.5766 - val_mae: 0.5495\n",
      "Epoch 2/100\n",
      "\u001b[1m390/413\u001b[0m \u001b[32m━━━━━━━━━━━━━━━━━━\u001b[0m\u001b[37m━━\u001b[0m \u001b[1m0s\u001b[0m 2ms/step - loss: 0.7585 - mae: 0.6226\n",
      "Epoch 2: val_loss improved from 0.57656 to 0.47307, saving model to mejor_modelo.keras\n",
      "\u001b[1m413/413\u001b[0m \u001b[32m━━━━━━━━━━━━━━━━━━━━\u001b[0m\u001b[37m\u001b[0m \u001b[1m1s\u001b[0m 2ms/step - loss: 0.7552 - mae: 0.6213 - val_loss: 0.4731 - val_mae: 0.4812\n",
      "Epoch 3/100\n",
      "\u001b[1m379/413\u001b[0m \u001b[32m━━━━━━━━━━━━━━━━━━\u001b[0m\u001b[37m━━\u001b[0m \u001b[1m0s\u001b[0m 1ms/step - loss: 0.6043 - mae: 0.5588\n",
      "Epoch 3: val_loss improved from 0.47307 to 0.44172, saving model to mejor_modelo.keras\n",
      "\u001b[1m413/413\u001b[0m \u001b[32m━━━━━━━━━━━━━━━━━━━━\u001b[0m\u001b[37m\u001b[0m \u001b[1m1s\u001b[0m 2ms/step - loss: 0.6036 - mae: 0.5584 - val_loss: 0.4417 - val_mae: 0.4634\n",
      "Epoch 4/100\n",
      "\u001b[1m410/413\u001b[0m \u001b[32m━━━━━━━━━━━━━━━━━━━\u001b[0m\u001b[37m━\u001b[0m \u001b[1m0s\u001b[0m 2ms/step - loss: 0.6364 - mae: 0.5380\n",
      "Epoch 4: val_loss did not improve from 0.44172\n",
      "\u001b[1m413/413\u001b[0m \u001b[32m━━━━━━━━━━━━━━━━━━━━\u001b[0m\u001b[37m\u001b[0m \u001b[1m1s\u001b[0m 2ms/step - loss: 0.6366 - mae: 0.5379 - val_loss: 0.4475 - val_mae: 0.4605\n",
      "Epoch 5/100\n",
      "\u001b[1m398/413\u001b[0m \u001b[32m━━━━━━━━━━━━━━━━━━━\u001b[0m\u001b[37m━\u001b[0m \u001b[1m0s\u001b[0m 2ms/step - loss: 0.5266 - mae: 0.5161\n",
      "Epoch 5: val_loss improved from 0.44172 to 0.42649, saving model to mejor_modelo.keras\n",
      "\u001b[1m413/413\u001b[0m \u001b[32m━━━━━━━━━━━━━━━━━━━━\u001b[0m\u001b[37m\u001b[0m \u001b[1m1s\u001b[0m 2ms/step - loss: 0.5265 - mae: 0.5160 - val_loss: 0.4265 - val_mae: 0.4548\n",
      "Epoch 6/100\n",
      "\u001b[1m400/413\u001b[0m \u001b[32m━━━━━━━━━━━━━━━━━━━\u001b[0m\u001b[37m━\u001b[0m \u001b[1m0s\u001b[0m 1ms/step - loss: 0.5257 - mae: 0.5068\n",
      "Epoch 6: val_loss improved from 0.42649 to 0.42000, saving model to mejor_modelo.keras\n",
      "\u001b[1m413/413\u001b[0m \u001b[32m━━━━━━━━━━━━━━━━━━━━\u001b[0m\u001b[37m\u001b[0m \u001b[1m1s\u001b[0m 2ms/step - loss: 0.5249 - mae: 0.5067 - val_loss: 0.4200 - val_mae: 0.4455\n",
      "Epoch 7/100\n",
      "\u001b[1m401/413\u001b[0m \u001b[32m━━━━━━━━━━━━━━━━━━━\u001b[0m\u001b[37m━\u001b[0m \u001b[1m0s\u001b[0m 2ms/step - loss: 0.4930 - mae: 0.4987\n",
      "Epoch 7: val_loss improved from 0.42000 to 0.39811, saving model to mejor_modelo.keras\n",
      "\u001b[1m413/413\u001b[0m \u001b[32m━━━━━━━━━━━━━━━━━━━━\u001b[0m\u001b[37m\u001b[0m \u001b[1m1s\u001b[0m 2ms/step - loss: 0.4924 - mae: 0.4985 - val_loss: 0.3981 - val_mae: 0.4514\n",
      "Epoch 8/100\n",
      "\u001b[1m406/413\u001b[0m \u001b[32m━━━━━━━━━━━━━━━━━━━\u001b[0m\u001b[37m━\u001b[0m \u001b[1m0s\u001b[0m 2ms/step - loss: 0.4819 - mae: 0.4907\n",
      "Epoch 8: val_loss improved from 0.39811 to 0.39533, saving model to mejor_modelo.keras\n",
      "\u001b[1m413/413\u001b[0m \u001b[32m━━━━━━━━━━━━━━━━━━━━\u001b[0m\u001b[37m\u001b[0m \u001b[1m1s\u001b[0m 2ms/step - loss: 0.4815 - mae: 0.4905 - val_loss: 0.3953 - val_mae: 0.4356\n",
      "Epoch 9/100\n",
      "\u001b[1m411/413\u001b[0m \u001b[32m━━━━━━━━━━━━━━━━━━━\u001b[0m\u001b[37m━\u001b[0m \u001b[1m0s\u001b[0m 1ms/step - loss: 0.4451 - mae: 0.4733\n",
      "Epoch 9: val_loss improved from 0.39533 to 0.38930, saving model to mejor_modelo.keras\n",
      "\u001b[1m413/413\u001b[0m \u001b[32m━━━━━━━━━━━━━━━━━━━━\u001b[0m\u001b[37m\u001b[0m \u001b[1m1s\u001b[0m 2ms/step - loss: 0.4451 - mae: 0.4733 - val_loss: 0.3893 - val_mae: 0.4393\n",
      "Epoch 10/100\n",
      "\u001b[1m400/413\u001b[0m \u001b[32m━━━━━━━━━━━━━━━━━━━\u001b[0m\u001b[37m━\u001b[0m \u001b[1m0s\u001b[0m 1ms/step - loss: 0.4290 - mae: 0.4704\n",
      "Epoch 10: val_loss did not improve from 0.38930\n",
      "\u001b[1m413/413\u001b[0m \u001b[32m━━━━━━━━━━━━━━━━━━━━\u001b[0m\u001b[37m\u001b[0m \u001b[1m1s\u001b[0m 2ms/step - loss: 0.4289 - mae: 0.4703 - val_loss: 0.3969 - val_mae: 0.4276\n",
      "Epoch 11/100\n",
      "\u001b[1m413/413\u001b[0m \u001b[32m━━━━━━━━━━━━━━━━━━━━\u001b[0m\u001b[37m\u001b[0m \u001b[1m0s\u001b[0m 1ms/step - loss: 0.4299 - mae: 0.4614\n",
      "Epoch 11: val_loss improved from 0.38930 to 0.38189, saving model to mejor_modelo.keras\n",
      "\u001b[1m413/413\u001b[0m \u001b[32m━━━━━━━━━━━━━━━━━━━━\u001b[0m\u001b[37m\u001b[0m \u001b[1m1s\u001b[0m 2ms/step - loss: 0.4299 - mae: 0.4614 - val_loss: 0.3819 - val_mae: 0.4212\n",
      "Epoch 12/100\n",
      "\u001b[1m413/413\u001b[0m \u001b[32m━━━━━━━━━━━━━━━━━━━━\u001b[0m\u001b[37m\u001b[0m \u001b[1m0s\u001b[0m 1ms/step - loss: 0.4228 - mae: 0.4601\n",
      "Epoch 12: val_loss improved from 0.38189 to 0.36899, saving model to mejor_modelo.keras\n",
      "\u001b[1m413/413\u001b[0m \u001b[32m━━━━━━━━━━━━━━━━━━━━\u001b[0m\u001b[37m\u001b[0m \u001b[1m1s\u001b[0m 2ms/step - loss: 0.4228 - mae: 0.4600 - val_loss: 0.3690 - val_mae: 0.4245\n",
      "Epoch 13/100\n",
      "\u001b[1m385/413\u001b[0m \u001b[32m━━━━━━━━━━━━━━━━━━\u001b[0m\u001b[37m━━\u001b[0m \u001b[1m0s\u001b[0m 1ms/step - loss: 0.4042 - mae: 0.4482\n",
      "Epoch 13: val_loss did not improve from 0.36899\n",
      "\u001b[1m413/413\u001b[0m \u001b[32m━━━━━━━━━━━━━━━━━━━━\u001b[0m\u001b[37m\u001b[0m \u001b[1m1s\u001b[0m 2ms/step - loss: 0.4043 - mae: 0.4482 - val_loss: 0.3691 - val_mae: 0.4266\n",
      "Epoch 14/100\n",
      "\u001b[1m400/413\u001b[0m \u001b[32m━━━━━━━━━━━━━━━━━━━\u001b[0m\u001b[37m━\u001b[0m \u001b[1m0s\u001b[0m 2ms/step - loss: 0.4105 - mae: 0.4535\n",
      "Epoch 14: val_loss did not improve from 0.36899\n",
      "\u001b[1m413/413\u001b[0m \u001b[32m━━━━━━━━━━━━━━━━━━━━\u001b[0m\u001b[37m\u001b[0m \u001b[1m1s\u001b[0m 2ms/step - loss: 0.4103 - mae: 0.4534 - val_loss: 0.3718 - val_mae: 0.4263\n",
      "Epoch 15/100\n",
      "\u001b[1m411/413\u001b[0m \u001b[32m━━━━━━━━━━━━━━━━━━━\u001b[0m\u001b[37m━\u001b[0m \u001b[1m0s\u001b[0m 1ms/step - loss: 0.3822 - mae: 0.4418\n",
      "Epoch 15: val_loss improved from 0.36899 to 0.36369, saving model to mejor_modelo.keras\n",
      "\u001b[1m413/413\u001b[0m \u001b[32m━━━━━━━━━━━━━━━━━━━━\u001b[0m\u001b[37m\u001b[0m \u001b[1m1s\u001b[0m 2ms/step - loss: 0.3823 - mae: 0.4418 - val_loss: 0.3637 - val_mae: 0.4219\n",
      "Epoch 16/100\n",
      "\u001b[1m396/413\u001b[0m \u001b[32m━━━━━━━━━━━━━━━━━━━\u001b[0m\u001b[37m━\u001b[0m \u001b[1m0s\u001b[0m 1ms/step - loss: 0.4158 - mae: 0.4436\n",
      "Epoch 16: val_loss improved from 0.36369 to 0.35467, saving model to mejor_modelo.keras\n",
      "\u001b[1m413/413\u001b[0m \u001b[32m━━━━━━━━━━━━━━━━━━━━\u001b[0m\u001b[37m\u001b[0m \u001b[1m1s\u001b[0m 2ms/step - loss: 0.4148 - mae: 0.4434 - val_loss: 0.3547 - val_mae: 0.4141\n",
      "Epoch 17/100\n",
      "\u001b[1m408/413\u001b[0m \u001b[32m━━━━━━━━━━━━━━━━━━━\u001b[0m\u001b[37m━\u001b[0m \u001b[1m0s\u001b[0m 1ms/step - loss: 0.3759 - mae: 0.4319\n",
      "Epoch 17: val_loss did not improve from 0.35467\n",
      "\u001b[1m413/413\u001b[0m \u001b[32m━━━━━━━━━━━━━━━━━━━━\u001b[0m\u001b[37m\u001b[0m \u001b[1m1s\u001b[0m 2ms/step - loss: 0.3760 - mae: 0.4320 - val_loss: 0.3566 - val_mae: 0.4131\n",
      "Epoch 18/100\n",
      "\u001b[1m411/413\u001b[0m \u001b[32m━━━━━━━━━━━━━━━━━━━\u001b[0m\u001b[37m━\u001b[0m \u001b[1m0s\u001b[0m 1ms/step - loss: 0.3766 - mae: 0.4325\n",
      "Epoch 18: val_loss did not improve from 0.35467\n",
      "\u001b[1m413/413\u001b[0m \u001b[32m━━━━━━━━━━━━━━━━━━━━\u001b[0m\u001b[37m\u001b[0m \u001b[1m1s\u001b[0m 2ms/step - loss: 0.3766 - mae: 0.4325 - val_loss: 0.3571 - val_mae: 0.4228\n",
      "Epoch 19/100\n",
      "\u001b[1m413/413\u001b[0m \u001b[32m━━━━━━━━━━━━━━━━━━━━\u001b[0m\u001b[37m\u001b[0m \u001b[1m0s\u001b[0m 1ms/step - loss: 0.3726 - mae: 0.4318\n",
      "Epoch 19: val_loss improved from 0.35467 to 0.34553, saving model to mejor_modelo.keras\n",
      "\u001b[1m413/413\u001b[0m \u001b[32m━━━━━━━━━━━━━━━━━━━━\u001b[0m\u001b[37m\u001b[0m \u001b[1m1s\u001b[0m 2ms/step - loss: 0.3726 - mae: 0.4318 - val_loss: 0.3455 - val_mae: 0.4119\n",
      "Epoch 20/100\n",
      "\u001b[1m377/413\u001b[0m \u001b[32m━━━━━━━━━━━━━━━━━━\u001b[0m\u001b[37m━━\u001b[0m \u001b[1m0s\u001b[0m 1ms/step - loss: 0.3760 - mae: 0.4315\n",
      "Epoch 20: val_loss improved from 0.34553 to 0.34485, saving model to mejor_modelo.keras\n",
      "\u001b[1m413/413\u001b[0m \u001b[32m━━━━━━━━━━━━━━━━━━━━\u001b[0m\u001b[37m\u001b[0m \u001b[1m1s\u001b[0m 2ms/step - loss: 0.3761 - mae: 0.4315 - val_loss: 0.3448 - val_mae: 0.4073\n",
      "Epoch 21/100\n",
      "\u001b[1m400/413\u001b[0m \u001b[32m━━━━━━━━━━━━━━━━━━━\u001b[0m\u001b[37m━\u001b[0m \u001b[1m0s\u001b[0m 2ms/step - loss: 0.3719 - mae: 0.4310\n",
      "Epoch 21: val_loss improved from 0.34485 to 0.34269, saving model to mejor_modelo.keras\n",
      "\u001b[1m413/413\u001b[0m \u001b[32m━━━━━━━━━━━━━━━━━━━━\u001b[0m\u001b[37m\u001b[0m \u001b[1m1s\u001b[0m 2ms/step - loss: 0.3719 - mae: 0.4309 - val_loss: 0.3427 - val_mae: 0.4131\n",
      "Epoch 22/100\n",
      "\u001b[1m409/413\u001b[0m \u001b[32m━━━━━━━━━━━━━━━━━━━\u001b[0m\u001b[37m━\u001b[0m \u001b[1m0s\u001b[0m 1ms/step - loss: 0.3563 - mae: 0.4212\n",
      "Epoch 22: val_loss did not improve from 0.34269\n",
      "\u001b[1m413/413\u001b[0m \u001b[32m━━━━━━━━━━━━━━━━━━━━\u001b[0m\u001b[37m\u001b[0m \u001b[1m1s\u001b[0m 2ms/step - loss: 0.3565 - mae: 0.4213 - val_loss: 0.3428 - val_mae: 0.4096\n",
      "Epoch 23/100\n",
      "\u001b[1m409/413\u001b[0m \u001b[32m━━━━━━━━━━━━━━━━━━━\u001b[0m\u001b[37m━\u001b[0m \u001b[1m0s\u001b[0m 1ms/step - loss: 0.3582 - mae: 0.4211\n",
      "Epoch 23: val_loss improved from 0.34269 to 0.34130, saving model to mejor_modelo.keras\n",
      "\u001b[1m413/413\u001b[0m \u001b[32m━━━━━━━━━━━━━━━━━━━━\u001b[0m\u001b[37m\u001b[0m \u001b[1m1s\u001b[0m 2ms/step - loss: 0.3581 - mae: 0.4211 - val_loss: 0.3413 - val_mae: 0.4042\n",
      "Epoch 24/100\n",
      "\u001b[1m401/413\u001b[0m \u001b[32m━━━━━━━━━━━━━━━━━━━\u001b[0m\u001b[37m━\u001b[0m \u001b[1m0s\u001b[0m 2ms/step - loss: 0.3652 - mae: 0.4267\n",
      "Epoch 24: val_loss improved from 0.34130 to 0.33508, saving model to mejor_modelo.keras\n",
      "\u001b[1m413/413\u001b[0m \u001b[32m━━━━━━━━━━━━━━━━━━━━\u001b[0m\u001b[37m\u001b[0m \u001b[1m1s\u001b[0m 2ms/step - loss: 0.3650 - mae: 0.4266 - val_loss: 0.3351 - val_mae: 0.3994\n",
      "Epoch 25/100\n",
      "\u001b[1m412/413\u001b[0m \u001b[32m━━━━━━━━━━━━━━━━━━━\u001b[0m\u001b[37m━\u001b[0m \u001b[1m0s\u001b[0m 1ms/step - loss: 0.3399 - mae: 0.4114\n",
      "Epoch 25: val_loss improved from 0.33508 to 0.33308, saving model to mejor_modelo.keras\n",
      "\u001b[1m413/413\u001b[0m \u001b[32m━━━━━━━━━━━━━━━━━━━━\u001b[0m\u001b[37m\u001b[0m \u001b[1m1s\u001b[0m 2ms/step - loss: 0.3400 - mae: 0.4114 - val_loss: 0.3331 - val_mae: 0.3981\n",
      "Epoch 26/100\n",
      "\u001b[1m408/413\u001b[0m \u001b[32m━━━━━━━━━━━━━━━━━━━\u001b[0m\u001b[37m━\u001b[0m \u001b[1m0s\u001b[0m 1ms/step - loss: 0.3324 - mae: 0.4111\n",
      "Epoch 26: val_loss did not improve from 0.33308\n",
      "\u001b[1m413/413\u001b[0m \u001b[32m━━━━━━━━━━━━━━━━━━━━\u001b[0m\u001b[37m\u001b[0m \u001b[1m1s\u001b[0m 2ms/step - loss: 0.3327 - mae: 0.4112 - val_loss: 0.3391 - val_mae: 0.4051\n",
      "Epoch 27/100\n",
      "\u001b[1m407/413\u001b[0m \u001b[32m━━━━━━━━━━━━━━━━━━━\u001b[0m\u001b[37m━\u001b[0m \u001b[1m0s\u001b[0m 2ms/step - loss: 0.3379 - mae: 0.4088\n",
      "Epoch 27: val_loss did not improve from 0.33308\n",
      "\u001b[1m413/413\u001b[0m \u001b[32m━━━━━━━━━━━━━━━━━━━━\u001b[0m\u001b[37m\u001b[0m \u001b[1m1s\u001b[0m 2ms/step - loss: 0.3381 - mae: 0.4089 - val_loss: 0.3358 - val_mae: 0.4067\n",
      "Epoch 28/100\n",
      "\u001b[1m389/413\u001b[0m \u001b[32m━━━━━━━━━━━━━━━━━━\u001b[0m\u001b[37m━━\u001b[0m \u001b[1m0s\u001b[0m 2ms/step - loss: 0.3445 - mae: 0.4130\n",
      "Epoch 28: val_loss improved from 0.33308 to 0.33272, saving model to mejor_modelo.keras\n",
      "\u001b[1m413/413\u001b[0m \u001b[32m━━━━━━━━━━━━━━━━━━━━\u001b[0m\u001b[37m\u001b[0m \u001b[1m1s\u001b[0m 2ms/step - loss: 0.3451 - mae: 0.4133 - val_loss: 0.3327 - val_mae: 0.4020\n",
      "Epoch 29/100\n",
      "\u001b[1m398/413\u001b[0m \u001b[32m━━━━━━━━━━━━━━━━━━━\u001b[0m\u001b[37m━\u001b[0m \u001b[1m0s\u001b[0m 2ms/step - loss: 0.3587 - mae: 0.4193\n",
      "Epoch 29: val_loss improved from 0.33272 to 0.32764, saving model to mejor_modelo.keras\n",
      "\u001b[1m413/413\u001b[0m \u001b[32m━━━━━━━━━━━━━━━━━━━━\u001b[0m\u001b[37m\u001b[0m \u001b[1m1s\u001b[0m 2ms/step - loss: 0.3584 - mae: 0.4192 - val_loss: 0.3276 - val_mae: 0.3982\n",
      "Epoch 30/100\n",
      "\u001b[1m398/413\u001b[0m \u001b[32m━━━━━━━━━━━━━━━━━━━\u001b[0m\u001b[37m━\u001b[0m \u001b[1m0s\u001b[0m 2ms/step - loss: 0.3455 - mae: 0.4129\n",
      "Epoch 30: val_loss did not improve from 0.32764\n",
      "\u001b[1m413/413\u001b[0m \u001b[32m━━━━━━━━━━━━━━━━━━━━\u001b[0m\u001b[37m\u001b[0m \u001b[1m1s\u001b[0m 2ms/step - loss: 0.3456 - mae: 0.4130 - val_loss: 0.3340 - val_mae: 0.4048\n",
      "Epoch 31/100\n",
      "\u001b[1m378/413\u001b[0m \u001b[32m━━━━━━━━━━━━━━━━━━\u001b[0m\u001b[37m━━\u001b[0m \u001b[1m0s\u001b[0m 2ms/step - loss: 0.3537 - mae: 0.4155\n",
      "Epoch 31: val_loss improved from 0.32764 to 0.32763, saving model to mejor_modelo.keras\n",
      "\u001b[1m413/413\u001b[0m \u001b[32m━━━━━━━━━━━━━━━━━━━━\u001b[0m\u001b[37m\u001b[0m \u001b[1m1s\u001b[0m 2ms/step - loss: 0.3532 - mae: 0.4153 - val_loss: 0.3276 - val_mae: 0.3945\n",
      "Epoch 32/100\n",
      "\u001b[1m396/413\u001b[0m \u001b[32m━━━━━━━━━━━━━━━━━━━\u001b[0m\u001b[37m━\u001b[0m \u001b[1m0s\u001b[0m 2ms/step - loss: 0.3434 - mae: 0.4131\n",
      "Epoch 32: val_loss improved from 0.32763 to 0.32734, saving model to mejor_modelo.keras\n",
      "\u001b[1m413/413\u001b[0m \u001b[32m━━━━━━━━━━━━━━━━━━━━\u001b[0m\u001b[37m\u001b[0m \u001b[1m1s\u001b[0m 2ms/step - loss: 0.3434 - mae: 0.4132 - val_loss: 0.3273 - val_mae: 0.4037\n",
      "Epoch 33/100\n",
      "\u001b[1m411/413\u001b[0m \u001b[32m━━━━━━━━━━━━━━━━━━━\u001b[0m\u001b[37m━\u001b[0m \u001b[1m0s\u001b[0m 2ms/step - loss: 0.3540 - mae: 0.4172\n",
      "Epoch 33: val_loss improved from 0.32734 to 0.32610, saving model to mejor_modelo.keras\n",
      "\u001b[1m413/413\u001b[0m \u001b[32m━━━━━━━━━━━━━━━━━━━━\u001b[0m\u001b[37m\u001b[0m \u001b[1m1s\u001b[0m 2ms/step - loss: 0.3539 - mae: 0.4172 - val_loss: 0.3261 - val_mae: 0.4005\n",
      "Epoch 34/100\n",
      "\u001b[1m384/413\u001b[0m \u001b[32m━━━━━━━━━━━━━━━━━━\u001b[0m\u001b[37m━━\u001b[0m \u001b[1m0s\u001b[0m 2ms/step - loss: 0.3400 - mae: 0.4096\n",
      "Epoch 34: val_loss improved from 0.32610 to 0.32199, saving model to mejor_modelo.keras\n",
      "\u001b[1m413/413\u001b[0m \u001b[32m━━━━━━━━━━━━━━━━━━━━\u001b[0m\u001b[37m\u001b[0m \u001b[1m1s\u001b[0m 2ms/step - loss: 0.3401 - mae: 0.4097 - val_loss: 0.3220 - val_mae: 0.3960\n",
      "Epoch 35/100\n",
      "\u001b[1m409/413\u001b[0m \u001b[32m━━━━━━━━━━━━━━━━━━━\u001b[0m\u001b[37m━\u001b[0m \u001b[1m0s\u001b[0m 2ms/step - loss: 0.3408 - mae: 0.4125\n",
      "Epoch 35: val_loss did not improve from 0.32199\n",
      "\u001b[1m413/413\u001b[0m \u001b[32m━━━━━━━━━━━━━━━━━━━━\u001b[0m\u001b[37m\u001b[0m \u001b[1m1s\u001b[0m 2ms/step - loss: 0.3407 - mae: 0.4125 - val_loss: 0.3235 - val_mae: 0.3979\n",
      "Epoch 36/100\n",
      "\u001b[1m397/413\u001b[0m \u001b[32m━━━━━━━━━━━━━━━━━━━\u001b[0m\u001b[37m━\u001b[0m \u001b[1m0s\u001b[0m 2ms/step - loss: 0.3309 - mae: 0.4058\n",
      "Epoch 36: val_loss improved from 0.32199 to 0.32027, saving model to mejor_modelo.keras\n",
      "\u001b[1m413/413\u001b[0m \u001b[32m━━━━━━━━━━━━━━━━━━━━\u001b[0m\u001b[37m\u001b[0m \u001b[1m1s\u001b[0m 2ms/step - loss: 0.3311 - mae: 0.4059 - val_loss: 0.3203 - val_mae: 0.3914\n",
      "Epoch 37/100\n",
      "\u001b[1m399/413\u001b[0m \u001b[32m━━━━━━━━━━━━━━━━━━━\u001b[0m\u001b[37m━\u001b[0m \u001b[1m0s\u001b[0m 2ms/step - loss: 0.3409 - mae: 0.4132\n",
      "Epoch 37: val_loss improved from 0.32027 to 0.31680, saving model to mejor_modelo.keras\n",
      "\u001b[1m413/413\u001b[0m \u001b[32m━━━━━━━━━━━━━━━━━━━━\u001b[0m\u001b[37m\u001b[0m \u001b[1m1s\u001b[0m 2ms/step - loss: 0.3409 - mae: 0.4131 - val_loss: 0.3168 - val_mae: 0.3895\n",
      "Epoch 38/100\n",
      "\u001b[1m412/413\u001b[0m \u001b[32m━━━━━━━━━━━━━━━━━━━\u001b[0m\u001b[37m━\u001b[0m \u001b[1m0s\u001b[0m 2ms/step - loss: 0.3292 - mae: 0.4035\n",
      "Epoch 38: val_loss did not improve from 0.31680\n",
      "\u001b[1m413/413\u001b[0m \u001b[32m━━━━━━━━━━━━━━━━━━━━\u001b[0m\u001b[37m\u001b[0m \u001b[1m1s\u001b[0m 2ms/step - loss: 0.3292 - mae: 0.4035 - val_loss: 0.3202 - val_mae: 0.3985\n",
      "Epoch 39/100\n",
      "\u001b[1m374/413\u001b[0m \u001b[32m━━━━━━━━━━━━━━━━━━\u001b[0m\u001b[37m━━\u001b[0m \u001b[1m0s\u001b[0m 1ms/step - loss: 0.3399 - mae: 0.4047\n",
      "Epoch 39: val_loss did not improve from 0.31680\n",
      "\u001b[1m413/413\u001b[0m \u001b[32m━━━━━━━━━━━━━━━━━━━━\u001b[0m\u001b[37m\u001b[0m \u001b[1m1s\u001b[0m 2ms/step - loss: 0.3400 - mae: 0.4052 - val_loss: 0.3180 - val_mae: 0.3853\n",
      "Epoch 40/100\n",
      "\u001b[1m382/413\u001b[0m \u001b[32m━━━━━━━━━━━━━━━━━━\u001b[0m\u001b[37m━━\u001b[0m \u001b[1m0s\u001b[0m 2ms/step - loss: 0.3452 - mae: 0.4096\n",
      "Epoch 40: val_loss did not improve from 0.31680\n",
      "\u001b[1m413/413\u001b[0m \u001b[32m━━━━━━━━━━━━━━━━━━━━\u001b[0m\u001b[37m\u001b[0m \u001b[1m1s\u001b[0m 2ms/step - loss: 0.3443 - mae: 0.4095 - val_loss: 0.3236 - val_mae: 0.3901\n",
      "Epoch 41/100\n",
      "\u001b[1m383/413\u001b[0m \u001b[32m━━━━━━━━━━━━━━━━━━\u001b[0m\u001b[37m━━\u001b[0m \u001b[1m0s\u001b[0m 2ms/step - loss: 0.3289 - mae: 0.4082\n",
      "Epoch 41: val_loss did not improve from 0.31680\n",
      "\u001b[1m413/413\u001b[0m \u001b[32m━━━━━━━━━━━━━━━━━━━━\u001b[0m\u001b[37m\u001b[0m \u001b[1m1s\u001b[0m 2ms/step - loss: 0.3292 - mae: 0.4081 - val_loss: 0.3215 - val_mae: 0.3920\n",
      "Epoch 42/100\n",
      "\u001b[1m381/413\u001b[0m \u001b[32m━━━━━━━━━━━━━━━━━━\u001b[0m\u001b[37m━━\u001b[0m \u001b[1m0s\u001b[0m 2ms/step - loss: 0.3381 - mae: 0.4119\n",
      "Epoch 42: val_loss did not improve from 0.31680\n",
      "\u001b[1m413/413\u001b[0m \u001b[32m━━━━━━━━━━━━━━━━━━━━\u001b[0m\u001b[37m\u001b[0m \u001b[1m1s\u001b[0m 2ms/step - loss: 0.3378 - mae: 0.4117 - val_loss: 0.3221 - val_mae: 0.3903\n"
     ]
    }
   ],
   "source": [
    "# Entrenamos\n",
    "history = model.fit(\n",
    "    X_train, y_train,\n",
    "    validation_split=0.2,\n",
    "    epochs=100,\n",
    "    batch_size=32,\n",
    "    callbacks=[early_stop, checkpoint],\n",
    "    verbose=1\n",
    ")"
   ]
  },
  {
   "cell_type": "markdown",
   "id": "db4a5c86",
   "metadata": {},
   "source": [
    "## 6. Evaluación"
   ]
  },
  {
   "cell_type": "code",
   "execution_count": 12,
   "id": "660d96e1",
   "metadata": {},
   "outputs": [
    {
     "name": "stdout",
     "output_type": "stream",
     "text": [
      "\u001b[1m129/129\u001b[0m \u001b[32m━━━━━━━━━━━━━━━━━━━━\u001b[0m\u001b[37m\u001b[0m \u001b[1m0s\u001b[0m 985us/step\n"
     ]
    }
   ],
   "source": [
    "# Predecimos\n",
    "y_pred = model.predict(X_test)"
   ]
  },
  {
   "cell_type": "code",
   "execution_count": 13,
   "id": "c9ac1983",
   "metadata": {},
   "outputs": [
    {
     "name": "stdout",
     "output_type": "stream",
     "text": [
      "\u001b[1m129/129\u001b[0m \u001b[32m━━━━━━━━━━━━━━━━━━━━\u001b[0m\u001b[37m\u001b[0m \u001b[1m0s\u001b[0m 694us/step\n",
      "Real: 0.48 - Predicción: 0.75\n",
      "Real: 0.46 - Predicción: 1.61\n",
      "Real: 5.00 - Predicción: 4.29\n",
      "Real: 2.19 - Predicción: 2.65\n",
      "Real: 2.78 - Predicción: 2.87\n"
     ]
    }
   ],
   "source": [
    "y_pred = model.predict(X_test).flatten()\n",
    "\n",
    "for real, pred in zip(y_test[:5], y_pred[:5]):\n",
    "    print(f\"Real: {real:.2f} - Predicción: {pred:.2f}\")"
   ]
  },
  {
   "cell_type": "code",
   "execution_count": 14,
   "id": "5c542f10",
   "metadata": {},
   "outputs": [
    {
     "name": "stdout",
     "output_type": "stream",
     "text": [
      "129/129 - 0s - 1ms/step - loss: 0.3009 - mae: 0.3796\n",
      "Pérdida (loss): 0.3008575737476349\n",
      "Error absoluto medio (MAE): 0.37959766387939453\n"
     ]
    }
   ],
   "source": [
    "loss, mae = model.evaluate(X_test, y_test, verbose=2)\n",
    "print(f\"Pérdida (loss): {loss}\")\n",
    "print(f\"Error absoluto medio (MAE): {mae}\")"
   ]
  },
  {
   "cell_type": "markdown",
   "id": "f33168d6",
   "metadata": {},
   "source": [
    "## 7. Visualización de métricas\n"
   ]
  },
  {
   "cell_type": "code",
   "execution_count": 15,
   "id": "8507ad6e",
   "metadata": {},
   "outputs": [
    {
     "data": {
      "image/png": "[encoded data removed]",
      "text/plain": [
       "<Figure size 1000x500 with 2 Axes>"
      ]
     },
     "metadata": {},
     "output_type": "display_data"
    }
   ],
   "source": [
    "plt.figure(figsize=(10, 5))\n",
    "\n",
    "# Pérdida\n",
    "plt.subplot(1, 2, 1)\n",
    "plt.plot(history.history['loss'], label='Entrenamiento')\n",
    "plt.plot(history.history['val_loss'], label='Validación')\n",
    "plt.title('Pérdida')\n",
    "plt.xlabel('Épocas')\n",
    "plt.ylabel('Loss')\n",
    "plt.legend()\n",
    "\n",
    "# MAE \n",
    "if 'mae' in history.history:\n",
    "    plt.subplot(1, 2, 2)\n",
    "    plt.plot(history.history['mae'], label='Entrenamiento')\n",
    "    plt.plot(history.history['val_mae'], label='Validación')\n",
    "    plt.title('MAE')\n",
    "    plt.xlabel('Épocas')\n",
    "    plt.ylabel('Error Absoluto Medio')\n",
    "    plt.legend()\n",
    "\n",
    "plt.tight_layout()\n",
    "plt.show()"
   ]
  },
  {
   "cell_type": "code",
   "execution_count": 16,
   "id": "dc889728",
   "metadata": {},
   "outputs": [
    {
     "data": {
      "text/plain": [
       "0.37959766387939453"
      ]
     },
     "execution_count": 16,
     "metadata": {},
     "output_type": "execute_result"
    }
   ],
   "source": [
    "mae"
   ]
  },
  {
   "cell_type": "code",
   "execution_count": 17,
   "id": "4fc1e984",
   "metadata": {},
   "outputs": [],
   "source": [
    "# Exportamos metricas\n",
    "hist_df = pd.DataFrame(history.history)\n",
    "hist_df.to_csv('historial_entrenamiento.csv', index=False)"
   ]
  },
  {
   "cell_type": "markdown",
   "id": "e7723c0a",
   "metadata": {},
   "source": [
    "## 8. Conclusiones"
   ]
  },
  {
   "cell_type": "markdown",
   "id": "0f7de55e",
   "metadata": {},
   "source": [
    "### Conclusiones\n",
    "\n",
    "- El modelo logró un error MAE de 0.37.\n",
    "- La red no muestra signos fuertes de overfitting.\n",
    "- En datasets bien estructurados y con bajo ruido como California Housing, modelos simples tienden a ofrecer un mejor rendimiento general. Introducir capas adicionales o técnicas de regularización innecesarias puede introducir complejidad que, lejos de mejorar, afecta negativamente el desempeño del modelo."
   ]
  }
 ],
 "metadata": {
  "kernelspec": {
   "display_name": "venv (3.10.9)",
   "language": "python",
   "name": "python3"
  },
  "language_info": {
   "codemirror_mode": {
    "name": "ipython",
    "version": 3
   },
   "file_extension": ".py",
   "mimetype": "text/x-python",
   "name": "python",
   "nbconvert_exporter": "python",
   "pygments_lexer": "ipython3",
   "version": "3.10.9"
  }
 },
 "nbformat": 4,
 "nbformat_minor": 5
}
